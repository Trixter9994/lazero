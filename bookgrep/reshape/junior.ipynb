{
 "cells": [
  {
   "cell_type": "code",
   "execution_count": 1,
   "metadata": {},
   "outputs": [],
   "source": [
    "import tensorflow as tf\n",
    "import random\n",
    "def randomKernel(a,b):\n",
    "    # a for range, b for length.\n",
    "    return [random.choice(list(range(*a))) for x in range(b)]\n",
    "def hashable(a):\n",
    "    a0=[]\n",
    "    for x in a:\n",
    "        if x not in a0:\n",
    "            a0.append(x)\n",
    "    return a0\n",
    "def getExample(a):\n",
    "    with open(\"example\\\\\"+str(a)+\".log\",\"r\") as f:\n",
    "        return f.read()\n",
    "def convolution(a,b):\n",
    "    return [a[x:x+b] for x in range(len(a)-b+1)]\n",
    "def unicodeShaver(a):\n",
    "    a0=hashable(a)\n",
    "    return [a0.index(x) for x in a]"
   ]
  },
  {
   "cell_type": "code",
   "execution_count": 2,
   "metadata": {},
   "outputs": [
    {
     "data": {
      "text/plain": "' PDF第1页 \\nURING\\n黑客与画家\\n硅谷创业之父 Paul graham文集\\nHackers and Painters Big Ideas from the Computer Age\\n[美] Paul graham著\\n阮一峰译\\nO REILLY°\\n人民邮电出版社\\nPOSTS TELECOM PRI\\n\\n\\n\\n\\n\\n\\n PDF第2页 \\n“此书将迫使你重新思考\\n计算机编程的本质。”\\nRobert Morris，麻省理工学院副教授，\\n世界上首个互联网应用程序Vawe开发人之\\n“人类社会还没有充分理解程序员带来的美和智慧， Graham的这本书却做到了这一点，描\\n述得清晰又动人，任何愿意倾听的人都会大有收获。如果我们不愿意马上就失去一些重要的\\n东西，那么我们这个社会就应该学会倾听。\\n— Lawrence Lessig，斯坦福大学法学院教授\\n“这是真正睿智之士的思维激荡，读来令人着迷。单单是‘为什么书呆子不受欢迎一文就\\n值得你买这本书了，它回答了我们这个时代的一个关键问题。”\\nChris anderson，《连线》杂志主编\\nPaul graham高瞻远瞩，文笔优雅清晰，且不乏幽默，这在黑客群体中实属罕见，甚至足\\n以跻身优秀作家的行列。\\nDavid Weinberger, Cluetrain Manifesto作者\\n“ Paul graham的《黑客与画家》是一本内容广泛的书，但是重要的不是你能从中知道为什\\n么书呆子在高中时备受挫折，或者计算机语言设计和实现有什么奥妙，而是他在论述每一个\\n题目时采取的那种方法，那样生动有趣，富有启迪性，让你莞尔一笑，然后陷入思考。强烈\\n推荐此书给所有读者。\\nRob“ Cmdrtaco”iada， Slashdot。 org刨始人、负责人\\n“ Paul graham是一名黑客，一位画家，还是个出色的作家。他的文章清晰易懂、幽默生\\n动，从艺术、科学、商业互相交织的角度谈论如何写出优秀的代码，充满了与众不同的看法\\n和切实可行的高见。你甚至可能因为看了他的文章而改用Lisp编程哦\\nAndy Hertzfeld，苹果机发明人之\\n“这是我最近读到的最发人深思的一本书，行文明白流畅，主题多样，而且风趣幽默。”\\nJef\" \"hemos\" Bates,0sDN负责人、 Slashdot。org维护者\\n图灵网站：www。turingbook。conm热线：(010)51095186\\n反馈没投稿/推荐信箱：contact@turingbook。com\\nIsBN978-7-115-24949-4\\n有奖勘误：debug@eturingbook。com\\nO\\'REILLY°\\n分类建议计算机/T人文\\noreilly. com\\n人民邮电出版社网址：www。ptpress。com。cn\\nOReilly Media，，hnc授权人民邮电出版社出版\\n9m787115249494\">\\n此简体中文版仅限于中国大陆(不包含中国香港、澳门特别行政区和中国台湾地区)销售发行\\nThis Authorized Edition for sale only in the territory of People\\'s Republic of China\\nSBN978-7-115-24949-4\\n(excluding Hong Kong, Macao and Taiwan)\\n定价:49.00元\\n\\n\\n\\n\\n\\n\\n PDF第3页 \\nTURING\\n黑客与画家\\n硅谷创业之父 Paul graham文集\\nHackers and Painters: big ldeas from the computer age\\n[美] Paul grahan著\\n阮一峰译\\nORE|LLY°\\nSebastopol· Tokyo\\n人民邮电出版社出版\\n人民邮电出版社\\n北京\\n\\n\\n\\n\\n\\n\\n PDF第4页 \\n图书在版编目(CIP)数据\\n黑客与画家：硅谷创业之父 Paul Graham文集/\\n(美)格雷厄姆( Graham，P。)著；阮一峰译\\n北京:\\n人民邮电出版社,2011.4(2011.5重印)\\n书名原文： Hackers and Painters： Big Ideas from\\nthe Computer Age\\nISBN978-7-115-24949-4\\nI。①黑…Ⅱ。①格…②阮…Ⅲ。①计算机网络\\n安全技术一文集Ⅳ。①TP393.08-53\\n中国版本图书馆CIP数据核字(2011)第033522号\\n内容提要\\n本书是硅谷创业之父 Paul Graham的文集，主要介绍黑客即优秀程序员的爱好和动机，讨\\n论黑客成长、黑客对世界的贡献以及编程语言和黑客工作方法等所有对计算机时代感兴趣的\\n人的一些话题。书中的内容不但有助于了解计算机编程的本质、互联网行业的规则，还会帮\\n助读者了解我们这个时代，迫使读者独立思考。\\n本书适合所有程序员和互联网创业者，也适合一切对计算机行业感兴趣的读者。\\n黑客与画家\\n硅谷创业之父 Paul graham文集\\n◆著\\n[美] Paul graham\\n译\\n阮一峰\\n责任编辑朱巍\\n人民邮电出版社出版发行北京市崇文区夕照寺街14号\\n邮编100061电子邮件315@ptpress。com。cn\\n网址http://www.ptpress.com.cn\\n北京铭成印刷有限公司印刷\\n◆开本:700×10001/16\\n印张:165\\n字数.246千字\\n2011年4月第1版\\n印数:8001-11000册\\n2011年5月北京第3次印刷\\n著作权合同登记号图字:0120104223号\\nISBN9787115249494\\n定价:4900元\\n读者服务热线：(010)51095186印装质量热线：(01067129223\\n反盗版热线：(010)6717154\\n\\n\\n\\n\\n\\n\\n PDF第5页 \\n版权声明\\nc 2004 by O Reilly Media, Inc\\nSimplified Chinese Edition, jointly published by O\\'Reilly Media, Inc. and\\nPosts Telecom Press, 2011. Authorized translation of the English edition, 2004\\nO\\' Reilly Media, Inc, the owner of all rights to publish and sell the same.\\nAll rights reserved including the rights of reproduction in whole or in part in\\nany form.\\n英文原版由 O Reilly Media，nc。出版2004\\n简体中文版由人民邮电出版社出版,2011。英文原版的翻译得到\\nORei！ r Media，Inc的授权。此简体中文版的出版和销售得到出版权和销售\\n权的所有者— O\\'Reilly Media，Inc的许可\\n版权所有，未得书面许可，本书的任何部分和全部不得以任何形式重制\\n\\n'"
     },
     "execution_count": 2,
     "metadata": {},
     "output_type": "execute_result"
    }
   ],
   "source": [
    "d=getExample(0)\n",
    "d"
   ]
  },
  {
   "cell_type": "code",
   "execution_count": 3,
   "metadata": {},
   "outputs": [
    {
     "data": {
      "text/plain": "[0,\n 1,\n 2,\n 3,\n 4,\n 5,\n 6,\n 0,\n 7,\n 8,\n 9,\n 10,\n 11,\n 12,\n 7,\n 13,\n 14,\n 15,\n 16,\n 17,\n 7,\n 18,\n 19,\n 20,\n 21,\n 22,\n 23,\n 0,\n 1,\n 24,\n 25,\n 26,\n 0,\n 27,\n 28,\n 24,\n 29,\n 24,\n 30,\n 31,\n 32,\n 7,\n 33,\n 24,\n 34,\n 35,\n 36,\n 28,\n 37,\n 0,\n 24,\n 38,\n 39,\n 0,\n 1,\n 24,\n 40,\n 38,\n 41,\n 36,\n 28,\n 37,\n 0,\n 42,\n 40,\n 27,\n 0,\n 10,\n 39,\n 36,\n 24,\n 37,\n 0,\n 43,\n 28,\n 44,\n 30,\n 0,\n 41,\n 29,\n 36,\n 0,\n 45,\n 44,\n 30,\n 46,\n 25,\n 41,\n 36,\n 28,\n 0,\n 47,\n 27,\n 36,\n 7,\n 48,\n 49,\n 50,\n 0,\n 1,\n 24,\n 25,\n 26,\n 0,\n 27,\n 28,\n 24,\n 29,\n 24,\n 30,\n 51,\n 7,\n 52,\n 53,\n 54,\n 55,\n 7,\n 56,\n 0,\n 9,\n 57,\n 10,\n 58,\n 58,\n 59,\n 60,\n 7,\n 61,\n 62,\n 63,\n 64,\n 65,\n 66,\n 67,\n 7,\n 1,\n 56,\n 68,\n 69,\n 68,\n 0,\n 69,\n 57,\n 58,\n 57,\n 45,\n 56,\n 70,\n 0,\n 1,\n 9,\n 10,\n 7,\n 7,\n 7,\n 7,\n 7,\n 7,\n 7,\n 0,\n 1,\n 2,\n 3,\n 4,\n 71,\n 6,\n 0,\n 7,\n 72,\n 73,\n 74,\n 75,\n 76,\n 77,\n 78,\n 79,\n 80,\n 81,\n 82,\n 7,\n 83,\n 84,\n 85,\n 86,\n 87,\n 88,\n 89,\n 90,\n 91,\n 92,\n 7,\n 9,\n 44,\n 93,\n 36,\n 28,\n 41,\n 0,\n 70,\n 44,\n 28,\n 28,\n 40,\n 37,\n 94,\n 95,\n 96,\n 97,\n 98,\n 99,\n 100,\n 101,\n 102,\n 103,\n 94,\n 7,\n 104,\n 105,\n 106,\n 107,\n 108,\n 109,\n 110,\n 111,\n 112,\n 113,\n 87,\n 114,\n 115,\n 24,\n 116,\n 36,\n 117,\n 118,\n 61,\n 22,\n 7,\n 72,\n 61,\n 119,\n 67,\n 120,\n 121,\n 122,\n 123,\n 124,\n 125,\n 97,\n 126,\n 87,\n 114,\n 127,\n 128,\n 129,\n 88,\n 49,\n 130,\n 131,\n 132,\n 94,\n 0,\n 12,\n 28,\n 24,\n 29,\n 24,\n 30,\n 88,\n 133,\n 89,\n 74,\n 134,\n 135,\n 136,\n 137,\n 133,\n 53,\n 138,\n 94,\n 139,\n 7,\n 140,\n 141,\n 142,\n 143,\n 144,\n 145,\n 61,\n 94,\n 146,\n 147,\n 148,\n 149,\n 150,\n 151,\n 88,\n 61,\n 152,\n 120,\n 153,\n 123,\n 154,\n 155,\n 91,\n 156,\n 157,\n 158,\n 159,\n 160,\n 148,\n 149,\n 161,\n 106,\n 162,\n 163,\n 164,\n 53,\n 165,\n 79,\n 166,\n 88,\n 7,\n 167,\n 168,\n 94,\n 169,\n 170,\n 158,\n 159,\n 133,\n 108,\n 67,\n 120,\n 162,\n 112,\n 171,\n 99,\n 120,\n 150,\n 151,\n 91,\n 7,\n 172,\n 0,\n 58,\n 24,\n 116,\n 28,\n 36,\n 38,\n 34,\n 36,\n 0,\n 58,\n 36,\n 37,\n 37,\n 40,\n 27,\n 94,\n 173,\n 174,\n 175,\n 153,\n 99,\n 176,\n 99,\n 100,\n 102,\n 103,\n 7,\n 72,\n 133,\n 177,\n 178,\n 179,\n 180,\n 131,\n 22,\n 181,\n 88,\n 81,\n 182,\n 183,\n 184,\n 94,\n 185,\n 129,\n 186,\n 61,\n 187,\n 188,\n 91,\n 189,\n 189,\n 177,\n 190,\n 191,\n 192,\n 170,\n 74,\n 193,\n 194,\n 160,\n 195,\n 196,\n 197,\n 53,\n 31,\n 162,\n 7,\n 198,\n 141,\n 78,\n 199,\n 133,\n 89,\n 74,\n 137,\n 94,\n 200,\n 201,\n 202,\n 137,\n 158,\n 159,\n 133,\n 108,\n 203,\n 204,\n 88,\n 53,\n 108,\n 205,\n 206,\n 207,\n 208,\n 91,\n 92,\n 7,\n 45,\n 29,\n 28,\n 40,\n 37,\n 0,\n 24,\n 38,\n 39,\n 36,\n 28,\n 37,\n 44,\n 38,\n 94,\n 209,\n 210,\n 211,\n 212,\n 213,\n 214,\n 215,\n 86,\n 7,\n 1,\n 24,\n 25,\n 26,\n 0,\n 27,\n 28,\n 24,\n 29,\n 24,\n 30,\n 216,\n 217,\n 218,\n 219,\n 94,\n 31,\n 220,\n 221,\n 222,\n 142,\n 143,\n 94,\n 223,\n 160,\n 224,\n 225,\n 226,\n 94,\n 133,\n 227,\n 13,\n 14,\n 228,\n 229,\n 230,\n 231,\n 232,\n 233,\n 234,\n 94,\n 235,\n 236,\n 237,\n 7,\n 238,\n 239,\n 240,\n 221,\n 241,\n 242,\n 17,\n 88,\n 243,\n 244,\n 91,\n 7,\n 2,\n 24,\n 245,\n 40,\n 39,\n 0,\n 246,\n 36,\n 40,\n 38,\n 93,\n 36,\n 28,\n 27,\n 36,\n 28,\n 247,\n 0,\n 45,\n 26,\n 25,\n 36,\n 41,\n 28,\n 24,\n 40,\n 38,\n 0,\n 70,\n 24,\n 38,\n 40,\n 43,\n 36,\n 37,\n 41,\n 44,\n 242,\n 248,\n 7,\n 72,\n 0,\n 1,\n 24,\n 25,\n 26,\n 0,\n 27,\n 28,\n 24,\n 29,\n 24,\n 30,\n 88,\n 209,\n 13,\n 14,\n 15,\n 16,\n 17,\n 212,\n 177,\n 53,\n 89,\n 249,\n 250,\n 251,\n 252,\n 88,\n 74,\n 94,\n 253,\n 177,\n 79,\n 166,\n 88,\n 160,\n 177,\n 78,\n 254,\n 255,\n 230,\n 256,\n 257,\n 191,\n 192,\n 7,\n 170,\n 74,\n 193,\n 194,\n 227,\n 216,\n 230,\n 203,\n 258,\n 195,\n 259,\n 260,\n 94,\n 261,\n 248,\n 83,\n 84,\n 85,\n 262,\n 263,\n 264,\n 83,\n 130,\n 231,\n 265,\n 123,\n 192,\n 170,\n 266,\n 267,\n 94,\n 268,\n 177,\n 269,\n 227,\n 270,\n 140,\n 271,\n 53,\n 108,\n 7,\n 208,\n 272,\n 203,\n 273,\n 274,\n 88,\n 169,\n 275,\n 276,\n 176,\n 94,\n 169,\n 277,\n 278,\n 145,\n 123,\n 279,\n 94,\n 280,\n 123,\n 281,\n 282,\n 283,\n 94,\n 284,\n 78,\n 285,\n 286,\n 53,\n 287,\n 94,\n 288,\n 289,\n 290,\n 291,\n 81,\n 82,\n 91,\n 292,\n 293,\n 7,\n 294,\n 295,\n 73,\n 74,\n 296,\n 297,\n 123,\n 185,\n 248,\n 91,\n 7,\n 9,\n 44,\n 93,\n 72,\n 0,\n 45,\n 30,\n 39,\n 28,\n 41,\n 24,\n 34,\n 44,\n 92,\n 40,\n 24,\n 39,\n 24,\n 94,\n 0,\n 68,\n 26,\n 24,\n 37,\n 29,\n 39,\n 44,\n 41,\n 91,\n 0,\n 44,\n 28,\n 27,\n 298,\n 299,\n 61,\n 300,\n 301,\n 302,\n 61,\n 7,\n 72,\n 0,\n 1,\n 24,\n 25,\n 26,\n 0,\n 27,\n 28,\n 24,\n 29,\n 24,\n 30,\n 177,\n 53,\n 303,\n 13,\n 14,\n 94,\n 53,\n 304,\n 16,\n 17,\n 94,\n 121,\n 177,\n 108,\n 65,\n 305,\n 88,\n 242,\n 17,\n 91,\n 269,\n 88,\n 31,\n 306,\n 142,\n 143,\n 307,\n 308,\n 300,\n 225,\n 226,\n 278,\n 7,\n 145,\n 94,\n 255,\n 309,\n 310,\n 300,\n 311,\n 99,\n 300,\n 312,\n 21,\n 109,\n 313,\n 314,\n 315,\n 88,\n 316,\n 317,\n 318,\n 270,\n 156,\n 147,\n 319,\n 65,\n 221,\n 241,\n 88,\n 204,\n 320,\n 94,\n 124,\n 321,\n 137,\n 15,\n 322,\n 160,\n 323,\n 88,\n 324,\n 176,\n 7,\n 130,\n 325,\n 231,\n 326,\n 243,\n 88,\n 216,\n 234,\n 91,\n 78,\n 235,\n 236,\n 326,\n 254,\n 327,\n 191,\n 324,\n 137,\n 269,\n 88,\n 31,\n 306,\n 268,\n 328,\n 113,\n 58,\n 40,\n 37,\n 46,\n 86,\n 87,\n 329,\n 7,\n 47,\n 38,\n 39,\n 330,\n 0,\n 33,\n 36,\n 28,\n 41,\n 331,\n 43,\n 36,\n 26,\n 39,\n 94,\n 332,\n 157,\n 85,\n 118,\n 333,\n 61,\n 22,\n 7,\n 72,\n 133,\n 177,\n 158,\n 334,\n 335,\n 185,\n 136,\n 88,\n 334,\n 118,\n 61,\n 336,\n 81,\n 88,\n 53,\n 89,\n 74,\n 94,\n 243,\n 31,\n 333,\n 337,\n 338,\n 339,\n 94,\n 215,\n 208,\n 340,\n 277,\n 94,\n 268,\n 223,\n 341,\n 279,\n 225,\n 226,\n 91,\n 92,\n 7,\n 342,\n 36,\n 43,\n 343,\n 0,\n 343,\n 29,\n 36,\n 30,\n 44,\n 37,\n 343,\n 0,\n 42,\n 24,\n 41,\n 36,\n 37,\n 247,\n 344,\n 37,\n 2,\n 11,\n 301,\n 302,\n 61,\n 300,\n 0,\n 68,\n 26,\n 24,\n 37,\n 29,\n 39,\n 44,\n 41,\n 91,\n 44,\n 28,\n 27,\n 182,\n 345,\n 248,\n 7,\n 346,\n 347,\n 111,\n 348,\n 349,\n 116,\n 116,\n 116,\n 91,\n 41,\n 25,\n 28,\n 40,\n 38,\n 27,\n 93,\n 44,\n 44,\n 35,\n 91,\n 34,\n 44,\n 38,\n 30,\n 350,\n 211,\n 349,\n 351,\n 344,\n 5,\n 344,\n ...]"
     },
     "execution_count": 3,
     "metadata": {},
     "output_type": "execute_result"
    }
   ],
   "source": [
    "dy=unicodeShaver(d)\n",
    "dy\n",
    "# dx=convolution(d,30)\n",
    "# dx\n",
    "# shall we test around those figures?"
   ]
  },
  {
   "cell_type": "code",
   "execution_count": 4,
   "metadata": {},
   "outputs": [
    {
     "data": {
      "text/plain": "[5, 3, 4, 1, 5, 3, 3, 1, 3, 1]"
     },
     "execution_count": 4,
     "metadata": {},
     "output_type": "execute_result"
    }
   ],
   "source": [
    "dk=randomKernel([1,6],10)\n",
    "dk"
   ]
  },
  {
   "cell_type": "code",
   "execution_count": 5,
   "metadata": {},
   "outputs": [
    {
     "name": "stdout",
     "output_type": "stream",
     "text": "Tensor(\"i:0\", shape=(2907,), dtype=float32) \n Tensor(\"k:0\", shape=(10,), dtype=float32) \n\nTensor(\"data:0\", shape=(1, 2907, 1), dtype=float32) \n Tensor(\"kernel:0\", shape=(10, 1, 1), dtype=float32) \n\n[  96.  110.  136. ... 7668. 7633. 6902.]\n"
    }
   ],
   "source": [
    "i = tf.constant(dy, dtype=tf.float32, name='i')\n",
    "k = tf.constant(dk, dtype=tf.float32, name='k')\n",
    "# better generate random kernel.\n",
    "# that is strange.\n",
    "# shall we define the encoding here?\n",
    "# the one-hot encoding?\n",
    "print (i, '\\n', k, '\\n')\n",
    "\n",
    "data   = tf.reshape(i, [1, int(i.shape[0]), 1], name='data')\n",
    "kernel = tf.reshape(k, [int(k.shape[0]), 1, 1], name='kernel')\n",
    "\n",
    "print (data, '\\n', kernel, '\\n')\n",
    "\n",
    "res = tf.squeeze(tf.nn.conv1d(data, kernel, 1, 'VALID'))\n",
    "with tf.Session() as sess:\n",
    "    print (sess.run(res))"
   ]
  },
  {
   "cell_type": "code",
   "execution_count": 6,
   "metadata": {},
   "outputs": [],
   "source": [
    "# is that your convolution?"
   ]
  }
 ],
 "metadata": {
  "kernelspec": {
   "display_name": "Python 3.6.7 64-bit",
   "language": "python",
   "name": "python36764bit48147c35a8ed4dcb97a10b021ffed148"
  },
  "language_info": {
   "codemirror_mode": {
    "name": "ipython",
    "version": 3
   },
   "file_extension": ".py",
   "mimetype": "text/x-python",
   "name": "python",
   "nbconvert_exporter": "python",
   "pygments_lexer": "ipython3",
   "version": "3.6.7-final"
  }
 },
 "nbformat": 4,
 "nbformat_minor": 2
}